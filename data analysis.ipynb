{
 "cells": [
  {
   "cell_type": "code",
   "execution_count": 1,
   "metadata": {},
   "outputs": [],
   "source": [
    "import pandas as pd\n",
    "import numpy as np\n",
    "import matplotlib.pyplot as plt\n",
    "import statsmodels\n"
   ]
  },
  {
   "cell_type": "code",
   "execution_count": 2,
   "metadata": {},
   "outputs": [],
   "source": [
    "df = pd.read_csv('Speed_dataset (1).csv')"
   ]
  },
  {
   "cell_type": "code",
   "execution_count": 3,
   "metadata": {},
   "outputs": [
    {
     "data": {
      "text/html": [
       "<div>\n",
       "<style scoped>\n",
       "    .dataframe tbody tr th:only-of-type {\n",
       "        vertical-align: middle;\n",
       "    }\n",
       "\n",
       "    .dataframe tbody tr th {\n",
       "        vertical-align: top;\n",
       "    }\n",
       "\n",
       "    .dataframe thead th {\n",
       "        text-align: right;\n",
       "    }\n",
       "</style>\n",
       "<table border=\"1\" class=\"dataframe\">\n",
       "  <thead>\n",
       "    <tr style=\"text-align: right;\">\n",
       "      <th></th>\n",
       "      <th>latitude</th>\n",
       "      <th>longitude</th>\n",
       "      <th>timestamp</th>\n",
       "      <th>speed_mph</th>\n",
       "      <th>speedlimit_mph</th>\n",
       "      <th>functionalClass</th>\n",
       "      <th>controlledAccess</th>\n",
       "      <th>isHighway</th>\n",
       "      <th>state</th>\n",
       "      <th>vehicle_id</th>\n",
       "      <th>driver_id</th>\n",
       "    </tr>\n",
       "  </thead>\n",
       "  <tbody>\n",
       "    <tr>\n",
       "      <th>0</th>\n",
       "      <td>34.640141</td>\n",
       "      <td>-77.938721</td>\n",
       "      <td>6/1/2015 0:04</td>\n",
       "      <td>64</td>\n",
       "      <td>70</td>\n",
       "      <td>2</td>\n",
       "      <td>Y</td>\n",
       "      <td>1</td>\n",
       "      <td>NC</td>\n",
       "      <td>1208979</td>\n",
       "      <td>5693</td>\n",
       "    </tr>\n",
       "    <tr>\n",
       "      <th>1</th>\n",
       "      <td>34.643730</td>\n",
       "      <td>-77.939400</td>\n",
       "      <td>6/1/2015 0:04</td>\n",
       "      <td>64</td>\n",
       "      <td>70</td>\n",
       "      <td>2</td>\n",
       "      <td>Y</td>\n",
       "      <td>1</td>\n",
       "      <td>NC</td>\n",
       "      <td>1208979</td>\n",
       "      <td>5693</td>\n",
       "    </tr>\n",
       "    <tr>\n",
       "      <th>2</th>\n",
       "      <td>34.551254</td>\n",
       "      <td>-78.784630</td>\n",
       "      <td>6/1/2015 0:04</td>\n",
       "      <td>1</td>\n",
       "      <td>55</td>\n",
       "      <td>4</td>\n",
       "      <td>N</td>\n",
       "      <td>1</td>\n",
       "      <td>NC</td>\n",
       "      <td>1262441</td>\n",
       "      <td>916461</td>\n",
       "    </tr>\n",
       "    <tr>\n",
       "      <th>3</th>\n",
       "      <td>35.613663</td>\n",
       "      <td>-78.470596</td>\n",
       "      <td>6/1/2015 0:06</td>\n",
       "      <td>62</td>\n",
       "      <td>70</td>\n",
       "      <td>2</td>\n",
       "      <td>Y</td>\n",
       "      <td>1</td>\n",
       "      <td>NC</td>\n",
       "      <td>1280223</td>\n",
       "      <td>1145487</td>\n",
       "    </tr>\n",
       "    <tr>\n",
       "      <th>4</th>\n",
       "      <td>35.614525</td>\n",
       "      <td>-78.474670</td>\n",
       "      <td>6/1/2015 0:06</td>\n",
       "      <td>61</td>\n",
       "      <td>70</td>\n",
       "      <td>2</td>\n",
       "      <td>Y</td>\n",
       "      <td>1</td>\n",
       "      <td>NC</td>\n",
       "      <td>1280223</td>\n",
       "      <td>1145487</td>\n",
       "    </tr>\n",
       "  </tbody>\n",
       "</table>\n",
       "</div>"
      ],
      "text/plain": [
       "    latitude  longitude      timestamp  speed_mph  speedlimit_mph  \\\n",
       "0  34.640141 -77.938721  6/1/2015 0:04         64              70   \n",
       "1  34.643730 -77.939400  6/1/2015 0:04         64              70   \n",
       "2  34.551254 -78.784630  6/1/2015 0:04          1              55   \n",
       "3  35.613663 -78.470596  6/1/2015 0:06         62              70   \n",
       "4  35.614525 -78.474670  6/1/2015 0:06         61              70   \n",
       "\n",
       "   functionalClass controlledAccess  isHighway state  vehicle_id  driver_id  \n",
       "0                2                Y          1    NC     1208979       5693  \n",
       "1                2                Y          1    NC     1208979       5693  \n",
       "2                4                N          1    NC     1262441     916461  \n",
       "3                2                Y          1    NC     1280223    1145487  \n",
       "4                2                Y          1    NC     1280223    1145487  "
      ]
     },
     "execution_count": 3,
     "metadata": {},
     "output_type": "execute_result"
    }
   ],
   "source": [
    "df.head()"
   ]
  },
  {
   "cell_type": "code",
   "execution_count": 9,
   "metadata": {},
   "outputs": [
    {
     "data": {
      "text/plain": [
       "13118387"
      ]
     },
     "execution_count": 9,
     "metadata": {},
     "output_type": "execute_result"
    }
   ],
   "source": [
    "#Descriptive statistics\n",
    "\n",
    "df['speed_mph'].sum()"
   ]
  },
  {
   "cell_type": "code",
   "execution_count": 7,
   "metadata": {},
   "outputs": [
    {
     "data": {
      "text/plain": [
       "38.1761294190229"
      ]
     },
     "execution_count": 7,
     "metadata": {},
     "output_type": "execute_result"
    }
   ],
   "source": [
    "#Mean \n",
    "df['speed_mph'].mean()"
   ]
  },
  {
   "cell_type": "code",
   "execution_count": 11,
   "metadata": {},
   "outputs": [
    {
     "data": {
      "text/plain": [
       "0               64\n",
       "1              128\n",
       "2              129\n",
       "3              191\n",
       "4              252\n",
       "5              316\n",
       "6              339\n",
       "7              342\n",
       "8              407\n",
       "9              471\n",
       "10             535\n",
       "11             599\n",
       "12             664\n",
       "13             728\n",
       "14             755\n",
       "15             820\n",
       "16             885\n",
       "17             950\n",
       "18            1000\n",
       "19            1032\n",
       "20            1039\n",
       "21            1072\n",
       "22            1078\n",
       "23            1143\n",
       "24            1205\n",
       "25            1257\n",
       "26            1322\n",
       "27            1386\n",
       "28            1451\n",
       "29            1516\n",
       "            ...   \n",
       "343598    13117035\n",
       "343599    13117092\n",
       "343600    13117144\n",
       "343601    13117204\n",
       "343602    13117271\n",
       "343603    13117336\n",
       "343604    13117400\n",
       "343605    13117432\n",
       "343606    13117488\n",
       "343607    13117555\n",
       "343608    13117619\n",
       "343609    13117673\n",
       "343610    13117729\n",
       "343611    13117793\n",
       "343612    13117858\n",
       "343613    13117864\n",
       "343614    13117865\n",
       "343615    13117929\n",
       "343616    13117934\n",
       "343617    13117998\n",
       "343618    13118001\n",
       "343619    13118064\n",
       "343620    13118129\n",
       "343621    13118193\n",
       "343622    13118245\n",
       "343623    13118291\n",
       "343624    13118302\n",
       "343625    13118306\n",
       "343626    13118371\n",
       "343627    13118387\n",
       "Name: speed_mph, Length: 343628, dtype: int64"
      ]
     },
     "execution_count": 11,
     "metadata": {},
     "output_type": "execute_result"
    }
   ],
   "source": [
    "#Cumulative sum of speed_mph, moving from the rows from the top\n",
    "df['speed_mph'].cumsum()"
   ]
  },
  {
   "cell_type": "code",
   "execution_count": 12,
   "metadata": {},
   "outputs": [
    {
     "data": {
      "text/plain": [
       "count    343628.000000\n",
       "mean         38.176129\n",
       "std          24.945979\n",
       "min           1.000000\n",
       "25%          10.000000\n",
       "50%          44.000000\n",
       "75%          64.000000\n",
       "max          79.000000\n",
       "Name: speed_mph, dtype: float64"
      ]
     },
     "execution_count": 12,
     "metadata": {},
     "output_type": "execute_result"
    }
   ],
   "source": [
    "#Summary statistics on speed_mph\n",
    "df['speed_mph'].describe()"
   ]
  },
  {
   "cell_type": "code",
   "execution_count": 13,
   "metadata": {},
   "outputs": [
    {
     "data": {
      "text/plain": [
       "343628"
      ]
     },
     "execution_count": 13,
     "metadata": {},
     "output_type": "execute_result"
    }
   ],
   "source": [
    "#Count the number of non-NA values\n",
    "df['speed_mph'].count()"
   ]
  },
  {
   "cell_type": "code",
   "execution_count": 38,
   "metadata": {},
   "outputs": [
    {
     "data": {
      "text/plain": [
       "1"
      ]
     },
     "execution_count": 38,
     "metadata": {},
     "output_type": "execute_result"
    }
   ],
   "source": [
    "#Minimum value of speed_mph\n",
    "m = df['speed_mph'].min()\n",
    "m"
   ]
  },
  {
   "cell_type": "code",
   "execution_count": 39,
   "metadata": {},
   "outputs": [
    {
     "data": {
      "text/plain": [
       "79"
      ]
     },
     "execution_count": 39,
     "metadata": {},
     "output_type": "execute_result"
    }
   ],
   "source": [
    "#max value of speed_mph\n",
    "ma = df['speed_mph'].max()\n",
    "ma"
   ]
  },
  {
   "cell_type": "code",
   "execution_count": 17,
   "metadata": {},
   "outputs": [
    {
     "data": {
      "text/plain": [
       "44.0"
      ]
     },
     "execution_count": 17,
     "metadata": {},
     "output_type": "execute_result"
    }
   ],
   "source": [
    "#median value\n",
    "df['speed_mph'].median()\n"
   ]
  },
  {
   "cell_type": "code",
   "execution_count": 18,
   "metadata": {},
   "outputs": [
    {
     "data": {
      "text/plain": [
       "622.3018770905743"
      ]
     },
     "execution_count": 18,
     "metadata": {},
     "output_type": "execute_result"
    }
   ],
   "source": [
    "#Sample variance \n",
    "df['speed_mph'].var()"
   ]
  },
  {
   "cell_type": "code",
   "execution_count": 19,
   "metadata": {},
   "outputs": [
    {
     "data": {
      "text/plain": [
       "24.945979176824757"
      ]
     },
     "execution_count": 19,
     "metadata": {},
     "output_type": "execute_result"
    }
   ],
   "source": [
    "#Sample standard deviation\n",
    "df['speed_mph'].std()"
   ]
  },
  {
   "cell_type": "code",
   "execution_count": 20,
   "metadata": {},
   "outputs": [
    {
     "data": {
      "text/plain": [
       "-0.2674569709478228"
      ]
     },
     "execution_count": 20,
     "metadata": {},
     "output_type": "execute_result"
    }
   ],
   "source": [
    "#Skewness\n",
    "df['speed_mph'].skew()"
   ]
  },
  {
   "cell_type": "code",
   "execution_count": 21,
   "metadata": {},
   "outputs": [
    {
     "data": {
      "text/plain": [
       "-1.5846445212274807"
      ]
     },
     "execution_count": 21,
     "metadata": {},
     "output_type": "execute_result"
    }
   ],
   "source": [
    "#Kurtosis\n",
    "df['speed_mph'].kurt()\n"
   ]
  },
  {
   "cell_type": "code",
   "execution_count": 25,
   "metadata": {},
   "outputs": [
    {
     "data": {
      "text/html": [
       "<div>\n",
       "<style scoped>\n",
       "    .dataframe tbody tr th:only-of-type {\n",
       "        vertical-align: middle;\n",
       "    }\n",
       "\n",
       "    .dataframe tbody tr th {\n",
       "        vertical-align: top;\n",
       "    }\n",
       "\n",
       "    .dataframe thead th {\n",
       "        text-align: right;\n",
       "    }\n",
       "</style>\n",
       "<table border=\"1\" class=\"dataframe\">\n",
       "  <thead>\n",
       "    <tr style=\"text-align: right;\">\n",
       "      <th></th>\n",
       "      <th>latitude</th>\n",
       "      <th>longitude</th>\n",
       "      <th>speed_mph</th>\n",
       "      <th>speedlimit_mph</th>\n",
       "      <th>functionalClass</th>\n",
       "      <th>isHighway</th>\n",
       "      <th>vehicle_id</th>\n",
       "      <th>driver_id</th>\n",
       "    </tr>\n",
       "  </thead>\n",
       "  <tbody>\n",
       "    <tr>\n",
       "      <th>latitude</th>\n",
       "      <td>1.000000</td>\n",
       "      <td>0.379375</td>\n",
       "      <td>-0.052393</td>\n",
       "      <td>-0.037666</td>\n",
       "      <td>-0.036304</td>\n",
       "      <td>-0.029942</td>\n",
       "      <td>0.269873</td>\n",
       "      <td>0.302945</td>\n",
       "    </tr>\n",
       "    <tr>\n",
       "      <th>longitude</th>\n",
       "      <td>0.379375</td>\n",
       "      <td>1.000000</td>\n",
       "      <td>-0.012837</td>\n",
       "      <td>-0.005605</td>\n",
       "      <td>0.040911</td>\n",
       "      <td>0.023697</td>\n",
       "      <td>0.235899</td>\n",
       "      <td>0.061322</td>\n",
       "    </tr>\n",
       "    <tr>\n",
       "      <th>speed_mph</th>\n",
       "      <td>-0.052393</td>\n",
       "      <td>-0.012837</td>\n",
       "      <td>1.000000</td>\n",
       "      <td>0.675648</td>\n",
       "      <td>-0.724927</td>\n",
       "      <td>0.551639</td>\n",
       "      <td>0.014499</td>\n",
       "      <td>0.025560</td>\n",
       "    </tr>\n",
       "    <tr>\n",
       "      <th>speedlimit_mph</th>\n",
       "      <td>-0.037666</td>\n",
       "      <td>-0.005605</td>\n",
       "      <td>0.675648</td>\n",
       "      <td>1.000000</td>\n",
       "      <td>-0.624328</td>\n",
       "      <td>0.762467</td>\n",
       "      <td>0.021273</td>\n",
       "      <td>0.014920</td>\n",
       "    </tr>\n",
       "    <tr>\n",
       "      <th>functionalClass</th>\n",
       "      <td>-0.036304</td>\n",
       "      <td>0.040911</td>\n",
       "      <td>-0.724927</td>\n",
       "      <td>-0.624328</td>\n",
       "      <td>1.000000</td>\n",
       "      <td>-0.478363</td>\n",
       "      <td>-0.038748</td>\n",
       "      <td>-0.084222</td>\n",
       "    </tr>\n",
       "    <tr>\n",
       "      <th>isHighway</th>\n",
       "      <td>-0.029942</td>\n",
       "      <td>0.023697</td>\n",
       "      <td>0.551639</td>\n",
       "      <td>0.762467</td>\n",
       "      <td>-0.478363</td>\n",
       "      <td>1.000000</td>\n",
       "      <td>0.024292</td>\n",
       "      <td>0.009829</td>\n",
       "    </tr>\n",
       "    <tr>\n",
       "      <th>vehicle_id</th>\n",
       "      <td>0.269873</td>\n",
       "      <td>0.235899</td>\n",
       "      <td>0.014499</td>\n",
       "      <td>0.021273</td>\n",
       "      <td>-0.038748</td>\n",
       "      <td>0.024292</td>\n",
       "      <td>1.000000</td>\n",
       "      <td>0.018155</td>\n",
       "    </tr>\n",
       "    <tr>\n",
       "      <th>driver_id</th>\n",
       "      <td>0.302945</td>\n",
       "      <td>0.061322</td>\n",
       "      <td>0.025560</td>\n",
       "      <td>0.014920</td>\n",
       "      <td>-0.084222</td>\n",
       "      <td>0.009829</td>\n",
       "      <td>0.018155</td>\n",
       "      <td>1.000000</td>\n",
       "    </tr>\n",
       "  </tbody>\n",
       "</table>\n",
       "</div>"
      ],
      "text/plain": [
       "                 latitude  longitude  speed_mph  speedlimit_mph  \\\n",
       "latitude         1.000000   0.379375  -0.052393       -0.037666   \n",
       "longitude        0.379375   1.000000  -0.012837       -0.005605   \n",
       "speed_mph       -0.052393  -0.012837   1.000000        0.675648   \n",
       "speedlimit_mph  -0.037666  -0.005605   0.675648        1.000000   \n",
       "functionalClass -0.036304   0.040911  -0.724927       -0.624328   \n",
       "isHighway       -0.029942   0.023697   0.551639        0.762467   \n",
       "vehicle_id       0.269873   0.235899   0.014499        0.021273   \n",
       "driver_id        0.302945   0.061322   0.025560        0.014920   \n",
       "\n",
       "                 functionalClass  isHighway  vehicle_id  driver_id  \n",
       "latitude               -0.036304  -0.029942    0.269873   0.302945  \n",
       "longitude               0.040911   0.023697    0.235899   0.061322  \n",
       "speed_mph              -0.724927   0.551639    0.014499   0.025560  \n",
       "speedlimit_mph         -0.624328   0.762467    0.021273   0.014920  \n",
       "functionalClass         1.000000  -0.478363   -0.038748  -0.084222  \n",
       "isHighway              -0.478363   1.000000    0.024292   0.009829  \n",
       "vehicle_id             -0.038748   0.024292    1.000000   0.018155  \n",
       "driver_id              -0.084222   0.009829    0.018155   1.000000  "
      ]
     },
     "execution_count": 25,
     "metadata": {},
     "output_type": "execute_result"
    }
   ],
   "source": [
    "#Correlation Matrix Of Values\n",
    "mat = df.corr()\n",
    "matpload code on git"
   ]
  },
  {
   "cell_type": "code",
   "execution_count": 29,
   "metadata": {},
   "outputs": [
    {
     "data": {
      "text/html": [
       "<div>\n",
       "<style scoped>\n",
       "    .dataframe tbody tr th:only-of-type {\n",
       "        vertical-align: middle;\n",
       "    }\n",
       "\n",
       "    .dataframe tbody tr th {\n",
       "        vertical-align: top;\n",
       "    }\n",
       "\n",
       "    .dataframe thead th {\n",
       "        text-align: right;\n",
       "    }\n",
       "</style>\n",
       "<table border=\"1\" class=\"dataframe\">\n",
       "  <thead>\n",
       "    <tr style=\"text-align: right;\">\n",
       "      <th></th>\n",
       "      <th>latitude</th>\n",
       "      <th>longitude</th>\n",
       "      <th>speed_mph</th>\n",
       "      <th>speedlimit_mph</th>\n",
       "      <th>functionalClass</th>\n",
       "      <th>isHighway</th>\n",
       "      <th>vehicle_id</th>\n",
       "      <th>driver_id</th>\n",
       "    </tr>\n",
       "  </thead>\n",
       "  <tbody>\n",
       "    <tr>\n",
       "      <th>latitude</th>\n",
       "      <td>0.631871</td>\n",
       "      <td>0.274499</td>\n",
       "      <td>-1.038932</td>\n",
       "      <td>-0.299853</td>\n",
       "      <td>-0.039494</td>\n",
       "      <td>-0.011069</td>\n",
       "      <td>1.078446e+05</td>\n",
       "      <td>1.250655e+05</td>\n",
       "    </tr>\n",
       "    <tr>\n",
       "      <th>longitude</th>\n",
       "      <td>0.274499</td>\n",
       "      <td>0.828543</td>\n",
       "      <td>-0.291495</td>\n",
       "      <td>-0.051093</td>\n",
       "      <td>0.050963</td>\n",
       "      <td>0.010031</td>\n",
       "      <td>1.079466e+05</td>\n",
       "      <td>2.898893e+04</td>\n",
       "    </tr>\n",
       "    <tr>\n",
       "      <th>speed_mph</th>\n",
       "      <td>-1.038932</td>\n",
       "      <td>-0.291495</td>\n",
       "      <td>622.301877</td>\n",
       "      <td>168.798226</td>\n",
       "      <td>-24.748509</td>\n",
       "      <td>6.399718</td>\n",
       "      <td>1.818348e+05</td>\n",
       "      <td>3.311492e+05</td>\n",
       "    </tr>\n",
       "    <tr>\n",
       "      <th>speedlimit_mph</th>\n",
       "      <td>-0.299853</td>\n",
       "      <td>-0.051093</td>\n",
       "      <td>168.798226</td>\n",
       "      <td>100.298308</td>\n",
       "      <td>-8.556849</td>\n",
       "      <td>3.551183</td>\n",
       "      <td>1.071029e+05</td>\n",
       "      <td>7.760244e+04</td>\n",
       "    </tr>\n",
       "    <tr>\n",
       "      <th>functionalClass</th>\n",
       "      <td>-0.039494</td>\n",
       "      <td>0.050963</td>\n",
       "      <td>-24.748509</td>\n",
       "      <td>-8.556849</td>\n",
       "      <td>1.872871</td>\n",
       "      <td>-0.304450</td>\n",
       "      <td>-2.665821e+04</td>\n",
       "      <td>-5.986022e+04</td>\n",
       "    </tr>\n",
       "    <tr>\n",
       "      <th>isHighway</th>\n",
       "      <td>-0.011069</td>\n",
       "      <td>0.010031</td>\n",
       "      <td>6.399718</td>\n",
       "      <td>3.551183</td>\n",
       "      <td>-0.304450</td>\n",
       "      <td>0.216277</td>\n",
       "      <td>5.679169e+03</td>\n",
       "      <td>2.373948e+03</td>\n",
       "    </tr>\n",
       "    <tr>\n",
       "      <th>vehicle_id</th>\n",
       "      <td>107844.571158</td>\n",
       "      <td>107946.642773</td>\n",
       "      <td>181834.840155</td>\n",
       "      <td>107102.871619</td>\n",
       "      <td>-26658.210429</td>\n",
       "      <td>5679.168653</td>\n",
       "      <td>2.527261e+11</td>\n",
       "      <td>4.739981e+09</td>\n",
       "    </tr>\n",
       "    <tr>\n",
       "      <th>driver_id</th>\n",
       "      <td>125065.525974</td>\n",
       "      <td>28988.926386</td>\n",
       "      <td>331149.220342</td>\n",
       "      <td>77602.439391</td>\n",
       "      <td>-59860.216728</td>\n",
       "      <td>2373.947655</td>\n",
       "      <td>4.739981e+09</td>\n",
       "      <td>2.697236e+11</td>\n",
       "    </tr>\n",
       "  </tbody>\n",
       "</table>\n",
       "</div>"
      ],
      "text/plain": [
       "                      latitude      longitude      speed_mph  speedlimit_mph  \\\n",
       "latitude              0.631871       0.274499      -1.038932       -0.299853   \n",
       "longitude             0.274499       0.828543      -0.291495       -0.051093   \n",
       "speed_mph            -1.038932      -0.291495     622.301877      168.798226   \n",
       "speedlimit_mph       -0.299853      -0.051093     168.798226      100.298308   \n",
       "functionalClass      -0.039494       0.050963     -24.748509       -8.556849   \n",
       "isHighway            -0.011069       0.010031       6.399718        3.551183   \n",
       "vehicle_id       107844.571158  107946.642773  181834.840155   107102.871619   \n",
       "driver_id        125065.525974   28988.926386  331149.220342    77602.439391   \n",
       "\n",
       "                 functionalClass    isHighway    vehicle_id     driver_id  \n",
       "latitude               -0.039494    -0.011069  1.078446e+05  1.250655e+05  \n",
       "longitude               0.050963     0.010031  1.079466e+05  2.898893e+04  \n",
       "speed_mph             -24.748509     6.399718  1.818348e+05  3.311492e+05  \n",
       "speedlimit_mph         -8.556849     3.551183  1.071029e+05  7.760244e+04  \n",
       "functionalClass         1.872871    -0.304450 -2.665821e+04 -5.986022e+04  \n",
       "isHighway              -0.304450     0.216277  5.679169e+03  2.373948e+03  \n",
       "vehicle_id         -26658.210429  5679.168653  2.527261e+11  4.739981e+09  \n",
       "driver_id          -59860.216728  2373.947655  4.739981e+09  2.697236e+11  "
      ]
     },
     "execution_count": 29,
     "metadata": {},
     "output_type": "execute_result"
    }
   ],
   "source": [
    "#Covariance Matrix Of Values\n",
    "df.cov()"
   ]
  },
  {
   "cell_type": "code",
   "execution_count": 30,
   "metadata": {},
   "outputs": [
    {
     "data": {
      "text/plain": [
       "latitude                0.794903\n",
       "longitude               0.910243\n",
       "speed_mph              24.945979\n",
       "speedlimit_mph         10.014904\n",
       "functionalClass         1.368529\n",
       "isHighway               0.465056\n",
       "vehicle_id         502718.694744\n",
       "driver_id          519349.221748\n",
       "dtype: float64"
      ]
     },
     "execution_count": 30,
     "metadata": {},
     "output_type": "execute_result"
    }
   ],
   "source": [
    "#standard deviation \n",
    "df.std()"
   ]
  },
  {
   "cell_type": "code",
   "execution_count": 40,
   "metadata": {},
   "outputs": [
    {
     "name": "stdout",
     "output_type": "stream",
     "text": [
      "1 79\n"
     ]
    }
   ],
   "source": [
    "#outliers\n",
    "print(m, ma)"
   ]
  },
  {
   "cell_type": "code",
   "execution_count": 41,
   "metadata": {},
   "outputs": [
    {
     "data": {
      "text/html": [
       "<div>\n",
       "<style scoped>\n",
       "    .dataframe tbody tr th:only-of-type {\n",
       "        vertical-align: middle;\n",
       "    }\n",
       "\n",
       "    .dataframe tbody tr th {\n",
       "        vertical-align: top;\n",
       "    }\n",
       "\n",
       "    .dataframe thead th {\n",
       "        text-align: right;\n",
       "    }\n",
       "</style>\n",
       "<table border=\"1\" class=\"dataframe\">\n",
       "  <thead>\n",
       "    <tr style=\"text-align: right;\">\n",
       "      <th></th>\n",
       "      <th>latitude</th>\n",
       "      <th>longitude</th>\n",
       "      <th>timestamp</th>\n",
       "      <th>speed_mph</th>\n",
       "      <th>speedlimit_mph</th>\n",
       "      <th>functionalClass</th>\n",
       "      <th>controlledAccess</th>\n",
       "      <th>isHighway</th>\n",
       "      <th>state</th>\n",
       "      <th>vehicle_id</th>\n",
       "      <th>driver_id</th>\n",
       "    </tr>\n",
       "  </thead>\n",
       "  <tbody>\n",
       "    <tr>\n",
       "      <th>0</th>\n",
       "      <td>34.640141</td>\n",
       "      <td>-77.938721</td>\n",
       "      <td>6/1/2015 0:04</td>\n",
       "      <td>64</td>\n",
       "      <td>70</td>\n",
       "      <td>2</td>\n",
       "      <td>Y</td>\n",
       "      <td>1</td>\n",
       "      <td>NC</td>\n",
       "      <td>1208979</td>\n",
       "      <td>5693</td>\n",
       "    </tr>\n",
       "    <tr>\n",
       "      <th>1</th>\n",
       "      <td>34.643730</td>\n",
       "      <td>-77.939400</td>\n",
       "      <td>6/1/2015 0:04</td>\n",
       "      <td>64</td>\n",
       "      <td>70</td>\n",
       "      <td>2</td>\n",
       "      <td>Y</td>\n",
       "      <td>1</td>\n",
       "      <td>NC</td>\n",
       "      <td>1208979</td>\n",
       "      <td>5693</td>\n",
       "    </tr>\n",
       "    <tr>\n",
       "      <th>2</th>\n",
       "      <td>34.551254</td>\n",
       "      <td>-78.784630</td>\n",
       "      <td>6/1/2015 0:04</td>\n",
       "      <td>1</td>\n",
       "      <td>55</td>\n",
       "      <td>4</td>\n",
       "      <td>N</td>\n",
       "      <td>1</td>\n",
       "      <td>NC</td>\n",
       "      <td>1262441</td>\n",
       "      <td>916461</td>\n",
       "    </tr>\n",
       "    <tr>\n",
       "      <th>3</th>\n",
       "      <td>35.613663</td>\n",
       "      <td>-78.470596</td>\n",
       "      <td>6/1/2015 0:06</td>\n",
       "      <td>62</td>\n",
       "      <td>70</td>\n",
       "      <td>2</td>\n",
       "      <td>Y</td>\n",
       "      <td>1</td>\n",
       "      <td>NC</td>\n",
       "      <td>1280223</td>\n",
       "      <td>1145487</td>\n",
       "    </tr>\n",
       "    <tr>\n",
       "      <th>4</th>\n",
       "      <td>35.614525</td>\n",
       "      <td>-78.474670</td>\n",
       "      <td>6/1/2015 0:06</td>\n",
       "      <td>61</td>\n",
       "      <td>70</td>\n",
       "      <td>2</td>\n",
       "      <td>Y</td>\n",
       "      <td>1</td>\n",
       "      <td>NC</td>\n",
       "      <td>1280223</td>\n",
       "      <td>1145487</td>\n",
       "    </tr>\n",
       "  </tbody>\n",
       "</table>\n",
       "</div>"
      ],
      "text/plain": [
       "    latitude  longitude      timestamp  speed_mph  speedlimit_mph  \\\n",
       "0  34.640141 -77.938721  6/1/2015 0:04         64              70   \n",
       "1  34.643730 -77.939400  6/1/2015 0:04         64              70   \n",
       "2  34.551254 -78.784630  6/1/2015 0:04          1              55   \n",
       "3  35.613663 -78.470596  6/1/2015 0:06         62              70   \n",
       "4  35.614525 -78.474670  6/1/2015 0:06         61              70   \n",
       "\n",
       "   functionalClass controlledAccess  isHighway state  vehicle_id  driver_id  \n",
       "0                2                Y          1    NC     1208979       5693  \n",
       "1                2                Y          1    NC     1208979       5693  \n",
       "2                4                N          1    NC     1262441     916461  \n",
       "3                2                Y          1    NC     1280223    1145487  \n",
       "4                2                Y          1    NC     1280223    1145487  "
      ]
     },
     "execution_count": 41,
     "metadata": {},
     "output_type": "execute_result"
    }
   ],
   "source": [
    "df.head()"
   ]
  },
  {
   "cell_type": "code",
   "execution_count": null,
   "metadata": {},
   "outputs": [],
   "source": []
  },
  {
   "cell_type": "code",
   "execution_count": null,
   "metadata": {},
   "outputs": [],
   "source": []
  }
 ],
 "metadata": {
  "kernelspec": {
   "display_name": "Python 3",
   "language": "python",
   "name": "python3"
  },
  "language_info": {
   "codemirror_mode": {
    "name": "ipython",
    "version": 3
   },
   "file_extension": ".py",
   "mimetype": "text/x-python",
   "name": "python",
   "nbconvert_exporter": "python",
   "pygments_lexer": "ipython3",
   "version": "3.6.4"
  }
 },
 "nbformat": 4,
 "nbformat_minor": 2
}
